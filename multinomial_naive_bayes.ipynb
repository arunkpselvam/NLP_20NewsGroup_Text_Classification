{
 "cells": [
  {
   "cell_type": "code",
   "execution_count": 19,
   "metadata": {},
   "outputs": [],
   "source": [
    "from sklearn.datasets import fetch_20newsgroups\n",
    "from sklearn.feature_extraction.text import CountVectorizer\n",
    "from sklearn.naive_bayes import MultinomialNB\n",
    "from sklearn.metrics import accuracy_score,classification_report,f1_score\n",
    "from matplotlib import pyplot as plt\n",
    "import pandas as pd\n",
    "import re\n",
    "import numpy as np\n",
    "import warnings\n",
    "import matplotlib\n",
    "%matplotlib inline\n",
    "warnings.filterwarnings('ignore')"
   ]
  },
  {
   "cell_type": "code",
   "execution_count": 2,
   "metadata": {},
   "outputs": [],
   "source": [
    "#Segregation of data in to training and test buckets\n",
    "X_train = fetch_20newsgroups(subset='train',remove=('headers', 'footers', 'quotes')).data\n",
    "X_test = fetch_20newsgroups(subset='test',remove=('headers', 'footers', 'quotes')).data\n",
    "y_train = fetch_20newsgroups(subset='train',remove=('headers', 'footers', 'quotes')).target\n",
    "y_test = fetch_20newsgroups(subset='test',remove=('headers', 'footers', 'quotes')).target"
   ]
  },
  {
   "cell_type": "code",
   "execution_count": 3,
   "metadata": {},
   "outputs": [
    {
     "name": "stdout",
     "output_type": "stream",
     "text": [
      "['alt.atheism', 'comp.graphics', 'comp.os.ms-windows.misc', 'comp.sys.ibm.pc.hardware', 'comp.sys.mac.hardware', 'comp.windows.x', 'misc.forsale', 'rec.autos', 'rec.motorcycles', 'rec.sport.baseball', 'rec.sport.hockey', 'sci.crypt', 'sci.electronics', 'sci.med', 'sci.space', 'soc.religion.christian', 'talk.politics.guns', 'talk.politics.mideast', 'talk.politics.misc', 'talk.religion.misc']\n"
     ]
    }
   ],
   "source": [
    "#Target Names\n",
    "target_names = fetch_20newsgroups(subset='train').target_names\n",
    "print(target_names)"
   ]
  },
  {
   "cell_type": "code",
   "execution_count": 4,
   "metadata": {},
   "outputs": [],
   "source": [
    "tar_dict = {}\n",
    "for i in range(len(target_names)):\n",
    "    tar_dict[i] = target_names[i]"
   ]
  },
  {
   "cell_type": "code",
   "execution_count": 5,
   "metadata": {},
   "outputs": [],
   "source": [
    "labels,counts = np.unique(y_train,return_counts=True)"
   ]
  },
  {
   "cell_type": "code",
   "execution_count": 6,
   "metadata": {},
   "outputs": [
    {
     "data": {
      "text/plain": [
       "array([ 0,  1,  2,  3,  4,  5,  6,  7,  8,  9, 10, 11, 12, 13, 14, 15, 16,\n",
       "       17, 18, 19])"
      ]
     },
     "execution_count": 6,
     "metadata": {},
     "output_type": "execute_result"
    }
   ],
   "source": [
    "labels"
   ]
  },
  {
   "cell_type": "code",
   "execution_count": 15,
   "metadata": {},
   "outputs": [
    {
     "data": {
      "image/png": "[encoded data removed]",
      "text/plain": [
       "<Figure size 720x360 with 1 Axes>"
      ]
     },
     "metadata": {
      "needs_background": "light"
     },
     "output_type": "display_data"
    }
   ],
   "source": [
    "#Count Distribution on targets\n",
    "fig = plt.figure(figsize=(10,5))\n",
    "plt.barh(labels,counts)\n",
    "plt.xlabel(\"Label Counts\")\n",
    "plt.ylabel(\"Label Counts\")\n",
    "ax1 = plt.subplot()\n",
    "ax1.set_xticks(counts)\n",
    "ax1.set_yticks(labels)\n",
    "for ix,val in enumerate(counts):\n",
    "    plt.text(val,ix,str(val))\n",
    "plt.show()"
   ]
  },
  {
   "cell_type": "code",
   "execution_count": 21,
   "metadata": {},
   "outputs": [],
   "source": [
    "def custom_preprocess(sen):\n",
    "    '''Custom preprocessor to remove the numbers, Underscores and to \n",
    "        convert double spaces to single spaces'''\n",
    "    pat=r'[\\d_]'\n",
    "    sen = re.sub(pat,'',sen.lower())\n",
    "    pat2 =r' +'\n",
    "    sen = re.sub(pat2,' ',sen)\n",
    "    return sen"
   ]
  },
  {
   "cell_type": "code",
   "execution_count": 22,
   "metadata": {},
   "outputs": [
    {
     "name": "stdout",
     "output_type": "stream",
     "text": [
      "this is a test sen fire fall\n"
     ]
    }
   ],
   "source": [
    "#To test custom preprocessor\n",
    "s = \"this is a test sen123456 __ _ fire fall\"\n",
    "t = custom_preprocess(s)\n",
    "print(t)"
   ]
  },
  {
   "cell_type": "code",
   "execution_count": 23,
   "metadata": {},
   "outputs": [],
   "source": [
    "#Initialization of Count Vectorizer with custom preprocessor\n",
    "cv = CountVectorizer(min_df=2,max_df = 0.85,stop_words='english',preprocessor = custom_preprocess)"
   ]
  },
  {
   "cell_type": "code",
   "execution_count": 24,
   "metadata": {},
   "outputs": [],
   "source": [
    "#Generation of count sparse matrix\n",
    "X_tr_vec = cv.fit_transform(X_train)\n",
    "X_tst_vec = cv.transform(X_test)"
   ]
  },
  {
   "cell_type": "code",
   "execution_count": 8,
   "metadata": {},
   "outputs": [
    {
     "data": {
      "text/html": [
       "<div>\n",
       "<style scoped>\n",
       "    .dataframe tbody tr th:only-of-type {\n",
       "        vertical-align: middle;\n",
       "    }\n",
       "\n",
       "    .dataframe tbody tr th {\n",
       "        vertical-align: top;\n",
       "    }\n",
       "\n",
       "    .dataframe thead th {\n",
       "        text-align: right;\n",
       "    }\n",
       "</style>\n",
       "<table border=\"1\" class=\"dataframe\">\n",
       "  <thead>\n",
       "    <tr style=\"text-align: right;\">\n",
       "      <th></th>\n",
       "      <th>aa</th>\n",
       "      <th>aaa</th>\n",
       "      <th>aaf</th>\n",
       "      <th>aamir</th>\n",
       "      <th>aamrl</th>\n",
       "      <th>aao</th>\n",
       "      <th>aardvark</th>\n",
       "      <th>aarnet</th>\n",
       "      <th>aaron</th>\n",
       "      <th>aas</th>\n",
       "      <th>...</th>\n",
       "      <th>zwt</th>\n",
       "      <th>zx</th>\n",
       "      <th>zxa</th>\n",
       "      <th>zy</th>\n",
       "      <th>zyb</th>\n",
       "      <th>zyra</th>\n",
       "      <th>zyxel</th>\n",
       "      <th>zz</th>\n",
       "      <th>zzd</th>\n",
       "      <th>zzz</th>\n",
       "    </tr>\n",
       "  </thead>\n",
       "  <tbody>\n",
       "    <tr>\n",
       "      <th>0</th>\n",
       "      <td>0</td>\n",
       "      <td>0</td>\n",
       "      <td>0</td>\n",
       "      <td>0</td>\n",
       "      <td>0</td>\n",
       "      <td>0</td>\n",
       "      <td>0</td>\n",
       "      <td>0</td>\n",
       "      <td>0</td>\n",
       "      <td>0</td>\n",
       "      <td>...</td>\n",
       "      <td>0</td>\n",
       "      <td>0</td>\n",
       "      <td>0</td>\n",
       "      <td>0</td>\n",
       "      <td>0</td>\n",
       "      <td>0</td>\n",
       "      <td>0</td>\n",
       "      <td>0</td>\n",
       "      <td>0</td>\n",
       "      <td>0</td>\n",
       "    </tr>\n",
       "    <tr>\n",
       "      <th>1</th>\n",
       "      <td>0</td>\n",
       "      <td>0</td>\n",
       "      <td>0</td>\n",
       "      <td>0</td>\n",
       "      <td>0</td>\n",
       "      <td>0</td>\n",
       "      <td>0</td>\n",
       "      <td>0</td>\n",
       "      <td>0</td>\n",
       "      <td>0</td>\n",
       "      <td>...</td>\n",
       "      <td>0</td>\n",
       "      <td>0</td>\n",
       "      <td>0</td>\n",
       "      <td>0</td>\n",
       "      <td>0</td>\n",
       "      <td>0</td>\n",
       "      <td>0</td>\n",
       "      <td>0</td>\n",
       "      <td>0</td>\n",
       "      <td>0</td>\n",
       "    </tr>\n",
       "    <tr>\n",
       "      <th>2</th>\n",
       "      <td>0</td>\n",
       "      <td>0</td>\n",
       "      <td>0</td>\n",
       "      <td>0</td>\n",
       "      <td>0</td>\n",
       "      <td>0</td>\n",
       "      <td>0</td>\n",
       "      <td>0</td>\n",
       "      <td>0</td>\n",
       "      <td>0</td>\n",
       "      <td>...</td>\n",
       "      <td>0</td>\n",
       "      <td>0</td>\n",
       "      <td>0</td>\n",
       "      <td>0</td>\n",
       "      <td>0</td>\n",
       "      <td>0</td>\n",
       "      <td>0</td>\n",
       "      <td>0</td>\n",
       "      <td>0</td>\n",
       "      <td>0</td>\n",
       "    </tr>\n",
       "    <tr>\n",
       "      <th>3</th>\n",
       "      <td>0</td>\n",
       "      <td>0</td>\n",
       "      <td>0</td>\n",
       "      <td>0</td>\n",
       "      <td>0</td>\n",
       "      <td>0</td>\n",
       "      <td>0</td>\n",
       "      <td>0</td>\n",
       "      <td>0</td>\n",
       "      <td>0</td>\n",
       "      <td>...</td>\n",
       "      <td>0</td>\n",
       "      <td>0</td>\n",
       "      <td>0</td>\n",
       "      <td>0</td>\n",
       "      <td>0</td>\n",
       "      <td>0</td>\n",
       "      <td>0</td>\n",
       "      <td>0</td>\n",
       "      <td>0</td>\n",
       "      <td>0</td>\n",
       "    </tr>\n",
       "    <tr>\n",
       "      <th>4</th>\n",
       "      <td>0</td>\n",
       "      <td>0</td>\n",
       "      <td>0</td>\n",
       "      <td>0</td>\n",
       "      <td>0</td>\n",
       "      <td>0</td>\n",
       "      <td>0</td>\n",
       "      <td>0</td>\n",
       "      <td>0</td>\n",
       "      <td>0</td>\n",
       "      <td>...</td>\n",
       "      <td>0</td>\n",
       "      <td>0</td>\n",
       "      <td>0</td>\n",
       "      <td>0</td>\n",
       "      <td>0</td>\n",
       "      <td>0</td>\n",
       "      <td>0</td>\n",
       "      <td>0</td>\n",
       "      <td>0</td>\n",
       "      <td>0</td>\n",
       "    </tr>\n",
       "    <tr>\n",
       "      <th>5</th>\n",
       "      <td>0</td>\n",
       "      <td>0</td>\n",
       "      <td>0</td>\n",
       "      <td>0</td>\n",
       "      <td>0</td>\n",
       "      <td>0</td>\n",
       "      <td>0</td>\n",
       "      <td>0</td>\n",
       "      <td>0</td>\n",
       "      <td>0</td>\n",
       "      <td>...</td>\n",
       "      <td>0</td>\n",
       "      <td>0</td>\n",
       "      <td>0</td>\n",
       "      <td>0</td>\n",
       "      <td>0</td>\n",
       "      <td>0</td>\n",
       "      <td>0</td>\n",
       "      <td>0</td>\n",
       "      <td>0</td>\n",
       "      <td>0</td>\n",
       "    </tr>\n",
       "    <tr>\n",
       "      <th>6</th>\n",
       "      <td>0</td>\n",
       "      <td>0</td>\n",
       "      <td>0</td>\n",
       "      <td>0</td>\n",
       "      <td>0</td>\n",
       "      <td>0</td>\n",
       "      <td>0</td>\n",
       "      <td>0</td>\n",
       "      <td>0</td>\n",
       "      <td>0</td>\n",
       "      <td>...</td>\n",
       "      <td>0</td>\n",
       "      <td>0</td>\n",
       "      <td>0</td>\n",
       "      <td>0</td>\n",
       "      <td>0</td>\n",
       "      <td>0</td>\n",
       "      <td>0</td>\n",
       "      <td>0</td>\n",
       "      <td>0</td>\n",
       "      <td>0</td>\n",
       "    </tr>\n",
       "    <tr>\n",
       "      <th>7</th>\n",
       "      <td>0</td>\n",
       "      <td>0</td>\n",
       "      <td>0</td>\n",
       "      <td>0</td>\n",
       "      <td>0</td>\n",
       "      <td>0</td>\n",
       "      <td>0</td>\n",
       "      <td>0</td>\n",
       "      <td>0</td>\n",
       "      <td>0</td>\n",
       "      <td>...</td>\n",
       "      <td>0</td>\n",
       "      <td>0</td>\n",
       "      <td>0</td>\n",
       "      <td>0</td>\n",
       "      <td>0</td>\n",
       "      <td>0</td>\n",
       "      <td>0</td>\n",
       "      <td>0</td>\n",
       "      <td>0</td>\n",
       "      <td>0</td>\n",
       "    </tr>\n",
       "    <tr>\n",
       "      <th>8</th>\n",
       "      <td>0</td>\n",
       "      <td>0</td>\n",
       "      <td>0</td>\n",
       "      <td>0</td>\n",
       "      <td>0</td>\n",
       "      <td>0</td>\n",
       "      <td>0</td>\n",
       "      <td>0</td>\n",
       "      <td>0</td>\n",
       "      <td>0</td>\n",
       "      <td>...</td>\n",
       "      <td>0</td>\n",
       "      <td>0</td>\n",
       "      <td>0</td>\n",
       "      <td>0</td>\n",
       "      <td>0</td>\n",
       "      <td>0</td>\n",
       "      <td>0</td>\n",
       "      <td>0</td>\n",
       "      <td>0</td>\n",
       "      <td>0</td>\n",
       "    </tr>\n",
       "    <tr>\n",
       "      <th>9</th>\n",
       "      <td>0</td>\n",
       "      <td>0</td>\n",
       "      <td>0</td>\n",
       "      <td>0</td>\n",
       "      <td>0</td>\n",
       "      <td>0</td>\n",
       "      <td>0</td>\n",
       "      <td>0</td>\n",
       "      <td>0</td>\n",
       "      <td>0</td>\n",
       "      <td>...</td>\n",
       "      <td>0</td>\n",
       "      <td>0</td>\n",
       "      <td>0</td>\n",
       "      <td>0</td>\n",
       "      <td>0</td>\n",
       "      <td>0</td>\n",
       "      <td>0</td>\n",
       "      <td>0</td>\n",
       "      <td>0</td>\n",
       "      <td>0</td>\n",
       "    </tr>\n",
       "  </tbody>\n",
       "</table>\n",
       "<p>10 rows × 34673 columns</p>\n",
       "</div>"
      ],
      "text/plain": [
       "   aa  aaa  aaf  aamir  aamrl  aao  aardvark  aarnet  aaron  aas  ...  zwt  \\\n",
       "0   0    0    0      0      0    0         0       0      0    0  ...    0   \n",
       "1   0    0    0      0      0    0         0       0      0    0  ...    0   \n",
       "2   0    0    0      0      0    0         0       0      0    0  ...    0   \n",
       "3   0    0    0      0      0    0         0       0      0    0  ...    0   \n",
       "4   0    0    0      0      0    0         0       0      0    0  ...    0   \n",
       "5   0    0    0      0      0    0         0       0      0    0  ...    0   \n",
       "6   0    0    0      0      0    0         0       0      0    0  ...    0   \n",
       "7   0    0    0      0      0    0         0       0      0    0  ...    0   \n",
       "8   0    0    0      0      0    0         0       0      0    0  ...    0   \n",
       "9   0    0    0      0      0    0         0       0      0    0  ...    0   \n",
       "\n",
       "   zx  zxa  zy  zyb  zyra  zyxel  zz  zzd  zzz  \n",
       "0   0    0   0    0     0      0   0    0    0  \n",
       "1   0    0   0    0     0      0   0    0    0  \n",
       "2   0    0   0    0     0      0   0    0    0  \n",
       "3   0    0   0    0     0      0   0    0    0  \n",
       "4   0    0   0    0     0      0   0    0    0  \n",
       "5   0    0   0    0     0      0   0    0    0  \n",
       "6   0    0   0    0     0      0   0    0    0  \n",
       "7   0    0   0    0     0      0   0    0    0  \n",
       "8   0    0   0    0     0      0   0    0    0  \n",
       "9   0    0   0    0     0      0   0    0    0  \n",
       "\n",
       "[10 rows x 34673 columns]"
      ]
     },
     "execution_count": 8,
     "metadata": {},
     "output_type": "execute_result"
    }
   ],
   "source": [
    "#Sparse matrix Visualization\n",
    "sparse_df = pd.DataFrame(X_tr_vec.toarray(), columns=cv.get_feature_names())\n",
    "sparse_df.head(10)"
   ]
  },
  {
   "cell_type": "code",
   "execution_count": 26,
   "metadata": {},
   "outputs": [
    {
     "name": "stdout",
     "output_type": "stream",
     "text": [
      "0.598380244291025\n"
     ]
    }
   ],
   "source": [
    "# Initialization of Multinomial Naive Bayes (Without Laplace Smoothing)\n",
    "mnb_wl = MultinomialNB(alpha=0)\n",
    "mnb_wl.fit(X_tr_vec,y_train)\n",
    "y_pred = mnb_wl.predict(X_tst_vec)\n",
    "print(accuracy_score(y_test,y_pred))"
   ]
  },
  {
   "cell_type": "code",
   "execution_count": 27,
   "metadata": {},
   "outputs": [
    {
     "name": "stdout",
     "output_type": "stream",
     "text": [
      "0.6481678173127987\n"
     ]
    }
   ],
   "source": [
    "# Initialization of Multinomial Naive Bayes (With Laplace Smoothing)\n",
    "mnb = MultinomialNB()\n",
    "mnb.fit(X_tr_vec,y_train)\n",
    "y_pred = mnb.predict(X_tst_vec)\n",
    "print(accuracy_score(y_test,y_pred))"
   ]
  },
  {
   "cell_type": "markdown",
   "metadata": {},
   "source": [
    "Accuarcy is higher after using Laplace Smoothing"
   ]
  },
  {
   "cell_type": "code",
   "execution_count": 11,
   "metadata": {},
   "outputs": [
    {
     "name": "stdout",
     "output_type": "stream",
     "text": [
      "                          precision    recall  f1-score   support\n",
      "\n",
      "             alt.atheism       0.55      0.46      0.50       319\n",
      "           comp.graphics       0.53      0.72      0.61       389\n",
      " comp.os.ms-windows.misc       0.25      0.00      0.01       394\n",
      "comp.sys.ibm.pc.hardware       0.49      0.74      0.59       392\n",
      "   comp.sys.mac.hardware       0.65      0.62      0.63       385\n",
      "          comp.windows.x       0.65      0.75      0.69       395\n",
      "            misc.forsale       0.83      0.69      0.75       390\n",
      "               rec.autos       0.78      0.70      0.74       396\n",
      "         rec.motorcycles       0.84      0.69      0.76       398\n",
      "      rec.sport.baseball       0.90      0.80      0.85       397\n",
      "        rec.sport.hockey       0.58      0.90      0.71       399\n",
      "               sci.crypt       0.67      0.75      0.70       396\n",
      "         sci.electronics       0.67      0.52      0.58       393\n",
      "                 sci.med       0.83      0.78      0.80       396\n",
      "               sci.space       0.79      0.73      0.76       394\n",
      "  soc.religion.christian       0.52      0.87      0.66       398\n",
      "      talk.politics.guns       0.56      0.66      0.61       364\n",
      "   talk.politics.mideast       0.75      0.75      0.75       376\n",
      "      talk.politics.misc       0.43      0.44      0.43       310\n",
      "      talk.religion.misc       0.36      0.11      0.17       251\n",
      "\n",
      "                accuracy                           0.65      7532\n",
      "               macro avg       0.63      0.63      0.62      7532\n",
      "            weighted avg       0.64      0.65      0.63      7532\n",
      "\n"
     ]
    }
   ],
   "source": [
    "print(classification_report(y_test,y_pred,target_names=target_names))"
   ]
  },
  {
   "cell_type": "code",
   "execution_count": 79,
   "metadata": {},
   "outputs": [],
   "source": [
    "#Classification new sentences\n",
    "test = ['the mac apple computer hardware parts provided was excellent. It worked as expected. the graphics and processor speed was higher',\n",
    "        'the astronauts in space galaxy planets international space station orbit explorer']"
   ]
  },
  {
   "cell_type": "code",
   "execution_count": 80,
   "metadata": {},
   "outputs": [
    {
     "data": {
      "text/plain": [
       "array([ 4, 14])"
      ]
     },
     "execution_count": 80,
     "metadata": {},
     "output_type": "execute_result"
    }
   ],
   "source": [
    "test_vec = cv.transform(test)\n",
    "mnb.predict(test_vec)"
   ]
  },
  {
   "cell_type": "code",
   "execution_count": 85,
   "metadata": {},
   "outputs": [
    {
     "name": "stdout",
     "output_type": "stream",
     "text": [
      "comp.sys.mac.hardware\n",
      "sci.space\n"
     ]
    }
   ],
   "source": [
    "print(target_names[4])\n",
    "print(target_names[14])"
   ]
  }
 ],
 "metadata": {
  "kernelspec": {
   "display_name": "Python 3",
   "language": "python",
   "name": "python3"
  },
  "language_info": {
   "codemirror_mode": {
    "name": "ipython",
    "version": 3
   },
   "file_extension": ".py",
   "mimetype": "text/x-python",
   "name": "python",
   "nbconvert_exporter": "python",
   "pygments_lexer": "ipython3",
   "version": "3.7.6"
  }
 },
 "nbformat": 4,
 "nbformat_minor": 4
}
